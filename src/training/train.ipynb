{
 "cells": [
  {
   "cell_type": "code",
   "execution_count": null,
   "metadata": {},
   "outputs": [],
   "source": [
    "import os\n",
    "import shutil\n",
    "from pathlib import Path\n",
    "import yaml\n",
    "\n",
    "from ultralytics import YOLO\n",
    "from ultralytics.data.annotator import auto_annotate\n",
    "from segment_anything import sam_model_registry\n",
    "from roboflow import Roboflow"
   ]
  },
  {
   "cell_type": "markdown",
   "metadata": {},
   "source": [
    "## Config"
   ]
  },
  {
   "cell_type": "code",
   "execution_count": null,
   "metadata": {},
   "outputs": [],
   "source": [
    "model_dir = \"../../models\"\n",
    "detection_dataset_dir = \"../../data/detection_dataset\"\n",
    "segmentation_dataset_dir = \"../../data/segmentation_dataset\"\n",
    "\n",
    "detection_dataset_root = Path(detection_dataset_dir).resolve()\n",
    "segmentation_dataset_root = Path(segmentation_dataset_dir).resolve()\n",
    "\n",
    "detection_yaml = f\"{detection_dataset_dir}/data.yaml\"\n",
    "segmentation_yaml = f\"{segmentation_dataset_dir}/data.yaml\"\n",
    "\n",
    "# The path where segment anything model will be downloaded to\n",
    "sam_path = f\"{model_dir}/sam_b.pt\""
   ]
  },
  {
   "cell_type": "code",
   "execution_count": null,
   "metadata": {},
   "outputs": [],
   "source": [
    "detection_model_config = {\n",
    "    \"model_name\": \"yolo11n.pt\",\n",
    "    \"project_dir\": \"./runs/detect\",\n",
    "    \"run_name\": \"train\",\n",
    "    \"tuned_model_name\": \"yolo_det.pt\",\n",
    "}\n",
    "\n",
    "detection_model_config[\"tuned_model_path\"] = f\"{model_dir}/{detection_model_config['tuned_model_name']}\""
   ]
  },
  {
   "cell_type": "code",
   "execution_count": null,
   "metadata": {},
   "outputs": [],
   "source": [
    "segmentation_model_config = {\n",
    "    \"model_name\": \"yolo11n-seg.pt\",\n",
    "    \"project_dir\": \"./runs/segment\",\n",
    "    \"run_name\": \"train\",\n",
    "    \"tuned_model_name\": \"yolo_seg.pt\",\n",
    "}\n",
    "\n",
    "segmentation_model_config[\"tuned_model_path\"] = f\"{model_dir}/{segmentation_model_config['tuned_model_name']}\""
   ]
  },
  {
   "cell_type": "markdown",
   "metadata": {},
   "source": [
    "## Download the dataset"
   ]
  },
  {
   "cell_type": "code",
   "execution_count": null,
   "metadata": {},
   "outputs": [],
   "source": [
    "roboflow_api_key = os.environ.get(\"api_key\")"
   ]
  },
  {
   "cell_type": "code",
   "execution_count": null,
   "metadata": {},
   "outputs": [],
   "source": [
    "rf = Roboflow(api_key=roboflow_api_key)\n",
    "project = rf.workspace(\"roboflow-gw7yv\").project(\"vehicles-openimages\")\n",
    "version = project.version(1)\n",
    "dataset = version.download(model_format=\"yolov11\", location=detection_dataset_dir, overwrite=True)"
   ]
  },
  {
   "cell_type": "markdown",
   "metadata": {},
   "source": [
    "### Fix yaml paths to absolute instead of relative"
   ]
  },
  {
   "cell_type": "code",
   "execution_count": null,
   "metadata": {},
   "outputs": [],
   "source": [
    "with open(detection_yaml, \"r\") as f:\n",
    "    data = yaml.safe_load(f)\n",
    "\n",
    "for split, dir in [(\"train\", \"train\"), (\"val\", \"valid\"), (\"test\", \"test\")]:\n",
    "    if split in data:\n",
    "        data[split] = str(detection_dataset_root / dir / \"images\")\n",
    "\n",
    "with open(detection_yaml, \"w\") as f:\n",
    "    yaml.dump(data, f)"
   ]
  },
  {
   "cell_type": "markdown",
   "metadata": {},
   "source": [
    "## Fine-tune the detection model"
   ]
  },
  {
   "cell_type": "code",
   "execution_count": null,
   "metadata": {},
   "outputs": [],
   "source": [
    "# Download pretrained model\n",
    "model = YOLO(detection_model_config[\"model_name\"])"
   ]
  },
  {
   "cell_type": "code",
   "execution_count": null,
   "metadata": {},
   "outputs": [],
   "source": [
    "model.train(\n",
    "    data=detection_yaml, \n",
    "    epochs=100, \n",
    "    batch=8, \n",
    "    project=detection_model_config[\"project_dir\"], \n",
    "    name=detection_model_config[\"run_name\"]\n",
    ")"
   ]
  },
  {
   "cell_type": "code",
   "execution_count": null,
   "metadata": {},
   "outputs": [],
   "source": [
    "# Save best model in \"models\" folder\n",
    "shutil.copy(f\"{detection_model_config[\"project_dir\"]}/{detection_model_config[\"run_name\"]}/weights/best.pt\", detection_model_config[\"tuned_model_path\"])"
   ]
  },
  {
   "cell_type": "markdown",
   "metadata": {},
   "source": [
    "## Anotate the detection dataset for segmentation task"
   ]
  },
  {
   "cell_type": "code",
   "execution_count": null,
   "metadata": {},
   "outputs": [],
   "source": [
    "# Copy detection dataset to use it as a base for segmentation\n",
    "shutil.copytree(detection_dataset_dir, segmentation_dataset_dir, dirs_exist_ok=True)"
   ]
  },
  {
   "cell_type": "code",
   "execution_count": null,
   "metadata": {},
   "outputs": [],
   "source": [
    "# Anotate images for segmentaion task\n",
    "splits = [\"train\", \"test\", \"valid\"]\n",
    "for split in splits:\n",
    "    dataset_split_dir = F\"{segmentation_dataset_dir}/{split}\"\n",
    "    \n",
    "    # Delete detection labels\n",
    "    shutil.rmtree(f\"{dataset_split_dir}/labels\")\n",
    "\n",
    "    auto_annotate(data=f'{dataset_split_dir}/images', det_model=detection_model_config[\"tuned_model_path\"], sam_model=sam_path, output_dir=f'{dataset_split_dir}/labels')"
   ]
  },
  {
   "cell_type": "markdown",
   "metadata": {},
   "source": [
    "### Fix yaml paths to absolute instead of relative"
   ]
  },
  {
   "cell_type": "code",
   "execution_count": null,
   "metadata": {},
   "outputs": [],
   "source": [
    "with open(segmentation_yaml, \"r\") as f:\n",
    "    data = yaml.safe_load(f)\n",
    "\n",
    "for split, dir in [(\"train\", \"train\"), (\"val\", \"valid\"), (\"test\", \"test\")]:\n",
    "    if split in data:\n",
    "        data[split] = str(segmentation_dataset_root / dir / \"images\")\n",
    "\n",
    "with open(segmentation_yaml, \"w\") as f:\n",
    "    yaml.dump(data, f)"
   ]
  },
  {
   "cell_type": "markdown",
   "metadata": {},
   "source": [
    "## Fine-tune the segmentation model"
   ]
  },
  {
   "cell_type": "code",
   "execution_count": null,
   "metadata": {},
   "outputs": [],
   "source": [
    "# Download pretrained model\n",
    "model = YOLO(segmentation_model_config[\"model_name\"])"
   ]
  },
  {
   "cell_type": "code",
   "execution_count": null,
   "metadata": {},
   "outputs": [],
   "source": [
    "model.train(\n",
    "    data=segmentation_yaml, \n",
    "    epochs=100, \n",
    "    batch=8, \n",
    "    project=segmentation_model_config[\"project_dir\"], \n",
    "    name=segmentation_model_config[\"run_name\"]\n",
    ")"
   ]
  },
  {
   "cell_type": "code",
   "execution_count": null,
   "metadata": {},
   "outputs": [],
   "source": [
    "# Save best model in \"models\" folder\n",
    "shutil.copy(f\"{segmentation_model_config[\"project_dir\"]}/{segmentation_model_config[\"run_name\"]}/weights/best.pt\", segmentation_model_config[\"tuned_model_path\"])"
   ]
  },
  {
   "cell_type": "markdown",
   "metadata": {},
   "source": [
    "## Delete the automatically downloaded pretrained models from disk"
   ]
  },
  {
   "cell_type": "code",
   "execution_count": 13,
   "metadata": {},
   "outputs": [],
   "source": [
    "os.remove(detection_model_config[\"model_name\"])\n",
    "os.remove(segmentation_model_config[\"model_name\"])"
   ]
  }
 ],
 "metadata": {
  "kernelspec": {
   "display_name": ".venv",
   "language": "python",
   "name": "python3"
  },
  "language_info": {
   "codemirror_mode": {
    "name": "ipython",
    "version": 3
   },
   "file_extension": ".py",
   "mimetype": "text/x-python",
   "name": "python",
   "nbconvert_exporter": "python",
   "pygments_lexer": "ipython3",
   "version": "3.11.0"
  }
 },
 "nbformat": 4,
 "nbformat_minor": 2
}
